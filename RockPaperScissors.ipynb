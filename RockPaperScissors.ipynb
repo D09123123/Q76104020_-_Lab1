{
 "cells": [
  {
   "cell_type": "code",
   "execution_count": 1,
   "id": "6c954ad6",
   "metadata": {
    "scrolled": true
   },
   "outputs": [
    {
     "name": "stdout",
     "output_type": "stream",
     "text": [
      "Welcome to ROCK, PAPER, SCISSORS game!\n",
      "Enter your move: (r)ock (p)aper (s)cissors p\n",
      "PAPER versus... \n",
      "SCISSORS\n",
      "You lose!\n",
      "Enter your move: (r)ock (p)aper (s)cissors r\n",
      "ROCK versus... \n",
      "SCISSORS\n",
      "You Win!\n",
      "You have 0 ties and 1 losses before your first win.\n"
     ]
    }
   ],
   "source": [
    "import random\n",
    "tie = 0\n",
    "lose = 0\n",
    "win = 0\n",
    "print(\"Welcome to ROCK, PAPER, SCISSORS game!\")\n",
    "while win == 0:                                               #When user hasn't won the game, the game will begin.\n",
    "    me = input(\"Enter your move: (r)ock (p)aper (s)cissors \") #user will choose paper,rock or scissors\n",
    "    while me != \"r\" and me != \"p\" and me != \"s\":              #user should choose valid choice\n",
    "        me = input(\"Invalid move! Enter your move again\" )\n",
    "    opp = random.choice([\"ROCK\", \"PAPER\", \"SCISSORS\"])        #opponent will choose paper,rock or scissors\n",
    "    if me == \"r\":                                             #show the games \n",
    "        user = \"ROCK\"\n",
    "        print(\"ROCK versus... \\n\" + opp )\n",
    "    elif me == \"p\":\n",
    "        user = \"PAPER\"\n",
    "        print(\"PAPER versus... \\n\" + opp )\n",
    "    elif me == \"s\":\n",
    "        user = \"SCISSORS\"\n",
    "        print(\"SCISSORS versus... \\n\" + opp )\n",
    "    if user == opp:                                           #the same choice -> tie (rule) count the times of tie\n",
    "        print(\"It is a tie!\")\n",
    "        tie += 1\n",
    "    elif ((user == \"ROCK\" and opp == \"PAPER\") or (user == \"PAPER\" and opp == \"SCISSORS\") or (user == \"SCISSORS\" and opp == \"ROCK\")):\n",
    "        print(\"You lose!\")                                    #user lose (rule) count the times of lose\n",
    "        lose += 1\n",
    "    else:                                                     #user win  (rule) win one time\n",
    "        print(\"You Win!\")\n",
    "        win += 1                                              #win == 1, jump out from the while loop(game)(while win == 0:) \n",
    "print(\"You have\" , tie , \"ties and\" , lose , \"losses before your first win.\")\n",
    "                                                              #print thr result  \n"
   ]
  }
 ],
 "metadata": {
  "kernelspec": {
   "display_name": "Python 3",
   "language": "python",
   "name": "python3"
  },
  "language_info": {
   "codemirror_mode": {
    "name": "ipython",
    "version": 3
   },
   "file_extension": ".py",
   "mimetype": "text/x-python",
   "name": "python",
   "nbconvert_exporter": "python",
   "pygments_lexer": "ipython3",
   "version": "3.8.8"
  }
 },
 "nbformat": 4,
 "nbformat_minor": 5
}
