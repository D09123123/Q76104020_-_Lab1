{
 "cells": [
  {
   "cell_type": "code",
   "execution_count": 1,
   "id": "a0f5b0c9",
   "metadata": {
    "scrolled": false
   },
   "outputs": [],
   "source": [
    "def remove_outliers():\n",
    "    original_list = []\n",
    "    outliers = []\n",
    "    val = \"0\"\n",
    "    remove_nums = int(input(\"Enter the number of smallest and largest values to remove: \"))\n",
    "    while val != \"q\" or val != \"Q\":                     #check the input isn't q or Q\n",
    "        val = input(\"Enter a value (q or Q to quit): \")\n",
    "        if val == \"q\" or val == \"Q\":                    #quit when user enter q or Q \n",
    "            break\n",
    "        original_list.append(int(val))                  #store the user's input\n",
    "    print(\"The original data: \", original_list)\n",
    "    original_list.sort()                                #sort the inputs from small to large\n",
    "    for i in range(remove_nums):                        \n",
    "        outliers.append(original_list[0])               #record the taken small liers\n",
    "        original_list.pop(0)                            #romove the small liers\n",
    "    for i in range(remove_nums):                        \n",
    "        outliers.append(original_list[-1])              ##record the taken large liers\n",
    "        original_list.pop(-1)                           ##romove the large liers\n",
    "    print(\"The data with the outliers removed: \", original_list )\n",
    "    print(\"The outliers: \", outliers)\n"
   ]
  },
  {
   "cell_type": "code",
   "execution_count": 2,
   "id": "c15a3217",
   "metadata": {
    "scrolled": false
   },
   "outputs": [
    {
     "name": "stdout",
     "output_type": "stream",
     "text": [
      "Enter the number of smallest and largest values to remove: 1\n",
      "Enter a value (q or Q to quit): 1\n",
      "Enter a value (q or Q to quit): 2\n",
      "Enter a value (q or Q to quit): 3\n",
      "Enter a value (q or Q to quit): 4\n",
      "Enter a value (q or Q to quit): 5\n",
      "Enter a value (q or Q to quit): 6\n",
      "Enter a value (q or Q to quit): q\n",
      "The original data:  [1, 2, 3, 4, 5, 6]\n",
      "The data with the outliers removed:  [2, 3, 4, 5]\n",
      "The outliers:  [1, 6]\n"
     ]
    }
   ],
   "source": [
    "remove_outliers()"
   ]
  },
  {
   "cell_type": "code",
   "execution_count": null,
   "id": "60ef3fd6",
   "metadata": {},
   "outputs": [],
   "source": []
  },
  {
   "cell_type": "code",
   "execution_count": null,
   "id": "3a5f1a71",
   "metadata": {},
   "outputs": [],
   "source": []
  },
  {
   "cell_type": "code",
   "execution_count": null,
   "id": "503e7d9c",
   "metadata": {},
   "outputs": [],
   "source": []
  }
 ],
 "metadata": {
  "kernelspec": {
   "display_name": "Python 3",
   "language": "python",
   "name": "python3"
  },
  "language_info": {
   "codemirror_mode": {
    "name": "ipython",
    "version": 3
   },
   "file_extension": ".py",
   "mimetype": "text/x-python",
   "name": "python",
   "nbconvert_exporter": "python",
   "pygments_lexer": "ipython3",
   "version": "3.8.8"
  }
 },
 "nbformat": 4,
 "nbformat_minor": 5
}
